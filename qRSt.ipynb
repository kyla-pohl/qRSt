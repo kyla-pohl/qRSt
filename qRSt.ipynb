{
 "cells": [
  {
   "cell_type": "markdown",
   "metadata": {},
   "source": [
    "# qRSt"
   ]
  },
  {
   "cell_type": "markdown",
   "metadata": {},
   "source": [
    "The celebrated Robinson-Schensted algorithm (hereafter, RS) describes an explicit bijection between permutations and pairs of Standard Young tableaux of the same shape. Include an example!\n",
    "In their 2021 paper, Aigner and Friedan describe a two-parameter generalization of RS which they call $qRSt$. It specializes to several known RS generalizations, in particular column-insertion RS and row-insertion RS. In this notebook, I implement $qRSt$. Run the last cell with your desired parameters $q$ and $t$ and permutation $g$. The output will be two probabilistically determined standard young tableaux of the same shape. "
   ]
  },
  {
   "cell_type": "code",
   "execution_count": 34,
   "metadata": {},
   "outputs": [],
   "source": [
    "# Import the sage file with all of the required functions.\n",
    "load(\"qRSt_functions.sage\")"
   ]
  },
  {
   "cell_type": "code",
   "execution_count": 35,
   "metadata": {},
   "outputs": [],
   "source": [
    "# Pick the permutation you'd like to use here from the symmetric group.\n",
    "# As an example, I'm using a random element from the permutations of 12.\n",
    "g = SymmetricGroup(12).random_element()\n",
    "\n",
    "# Pick parameters q and t. \n",
    "# They may not be 0 or 1. \n",
    "# I will pick q = t = 0.5 as an example.\n",
    "q = 0.5\n",
    "t = 0.5"
   ]
  },
  {
   "cell_type": "markdown",
   "metadata": {},
   "source": [
    "The following cell prints out the tableau P followed by the tableau Q."
   ]
  },
  {
   "cell_type": "code",
   "execution_count": 36,
   "metadata": {},
   "outputs": [
    {
     "name": "stdout",
     "output_type": "stream",
     "text": [
      "  1  2  4  6 10 12\n",
      "  3  5  9\n",
      "  7\n",
      "  8\n",
      " 11\n",
      "-----------\n",
      "  1  2  4  8  9 11\n",
      "  3  5  7\n",
      "  6\n",
      " 10\n",
      " 12\n"
     ]
    }
   ],
   "source": [
    "qRSt_output(g,q,t)"
   ]
  },
  {
   "cell_type": "code",
   "execution_count": null,
   "metadata": {},
   "outputs": [],
   "source": []
  },
  {
   "cell_type": "code",
   "execution_count": null,
   "metadata": {},
   "outputs": [],
   "source": []
  },
  {
   "cell_type": "code",
   "execution_count": null,
   "metadata": {},
   "outputs": [],
   "source": []
  }
 ],
 "metadata": {
  "kernelspec": {
   "display_name": "SageMath 10.5",
   "language": "sage",
   "name": "SageMath-10.5"
  },
  "language_info": {
   "codemirror_mode": {
    "name": "ipython",
    "version": 3
   },
   "file_extension": ".py",
   "mimetype": "text/x-python",
   "name": "python",
   "nbconvert_exporter": "python",
   "pygments_lexer": "ipython3",
   "version": "3.12.5"
  }
 },
 "nbformat": 4,
 "nbformat_minor": 4
}
